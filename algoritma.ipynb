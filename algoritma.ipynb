{
  "nbformat": 4,
  "nbformat_minor": 0,
  "metadata": {
    "colab": {
      "provenance": []
    },
    "kernelspec": {
      "name": "python3",
      "display_name": "Python 3"
    },
    "language_info": {
      "name": "python"
    }
  },
  "cells": [
    {
      "cell_type": "code",
      "execution_count": 28,
      "metadata": {
        "id": "nPFNCSLAmx3d"
      },
      "outputs": [],
      "source": [
        "# Importing necessary libraries\n",
        "import pandas as pd\n",
        "import numpy as np\n",
        "from sklearn.model_selection import train_test_split\n",
        "from sklearn.linear_model import LinearRegression, Lasso, Ridge\n",
        "from sklearn.tree import DecisionTreeRegressor\n",
        "from sklearn.ensemble import RandomForestRegressor, GradientBoostingRegressor, AdaBoostRegressor\n",
        "from sklearn.svm import SVR\n",
        "from sklearn.neighbors import KNeighborsRegressor\n",
        "from sklearn.metrics import mean_squared_error, r2_score\n",
        "import joblib\n",
        "from xgboost import XGBRegressor  # Ensure XGBoost is installed: pip install xgboost\n"
      ]
    },
    {
      "cell_type": "code",
      "source": [
        "# Load the dataset\n",
        "df = pd.read_csv(\"veri.csv\")\n",
        "\n",
        "# Check if 'location' exists and convert categorical columns to one-hot encoding\n",
        "if \"location\" in df.columns:\n",
        "    df = pd.get_dummies(df, columns=[\"location\"], drop_first=True)\n",
        "\n",
        "# Split data into features (X) and target (y)\n",
        "X = df.drop(\"price\", axis=1)\n",
        "y = df[\"price\"]\n"
      ],
      "metadata": {
        "id": "p-9-bqG_n6na"
      },
      "execution_count": 32,
      "outputs": []
    },
    {
      "cell_type": "code",
      "source": [
        "# Split into training and test sets (80% train, 20% test)\n",
        "X_train, X_test, y_train, y_test = train_test_split(X, y, test_size=0.2, random_state=42)\n"
      ],
      "metadata": {
        "id": "JlZj9Ul4o5-O"
      },
      "execution_count": 33,
      "outputs": []
    },
    {
      "cell_type": "code",
      "source": [
        "# Initialize the models\n",
        "models = {\n",
        "    \"Linear Regression\": LinearRegression(),\n",
        "    \"Decision Tree\": DecisionTreeRegressor(),\n",
        "    \"Random Forest\": RandomForestRegressor(),\n",
        "    \"Gradient Boosting\": GradientBoostingRegressor(),\n",
        "    \"Support Vector Regression\": SVR(),\n",
        "    \"K-Nearest Neighbors\": KNeighborsRegressor(),\n",
        "    \"Lasso Regression\": Lasso(),\n",
        "    \"Ridge Regression\": Ridge(),\n",
        "    \"AdaBoost Regression\": AdaBoostRegressor(),\n",
        "    \"XGBoost\": XGBRegressor()  # Ensure to install xgboost via `pip install xgboost`\n",
        "}\n",
        "\n",
        "# Dictionary to store model performance\n",
        "model_performance = {}\n",
        "\n",
        "# Train each model and evaluate performance\n",
        "for model_name, model in models.items():\n",
        "    # Train the model\n",
        "    model.fit(X_train, y_train)\n",
        "\n",
        "    # Predict on test set\n",
        "    y_pred = model.predict(X_test)\n",
        "\n",
        "    # Calculate RMSE and R-squared\n",
        "    rmse = np.sqrt(mean_squared_error(y_test, y_pred))\n",
        "    r2 = r2_score(y_test, y_pred)\n",
        "\n",
        "    # Store the performance metrics\n",
        "    model_performance[model_name] = {\"RMSE\": rmse, \"R2\": r2}\n",
        "\n",
        "    print(f\"{model_name}:\")\n",
        "    print(f\"  RMSE: {rmse}\")\n",
        "    print(f\"  R2: {r2}\")\n",
        "    print(\"=\"*50)\n"
      ],
      "metadata": {
        "colab": {
          "base_uri": "https://localhost:8080/"
        },
        "id": "QKRZ3TDWo9gN",
        "outputId": "9f67974c-8353-426a-9b35-73609baf643a"
      },
      "execution_count": 34,
      "outputs": [
        {
          "output_type": "stream",
          "name": "stdout",
          "text": [
            "Linear Regression:\n",
            "  RMSE: 11952.574319201696\n",
            "  R2: 0.9582235073077814\n",
            "==================================================\n",
            "Decision Tree:\n",
            "  RMSE: 20400.209448270452\n",
            "  R2: 0.8783034340160149\n",
            "==================================================\n",
            "Random Forest:\n",
            "  RMSE: 14369.166703960904\n",
            "  R2: 0.939622901662771\n",
            "==================================================\n",
            "Gradient Boosting:\n",
            "  RMSE: 12618.727834409401\n",
            "  R2: 0.953437078901135\n",
            "==================================================\n",
            "Support Vector Regression:\n",
            "  RMSE: 57997.794938025174\n",
            "  R2: 0.016369390399881945\n",
            "==================================================\n",
            "K-Nearest Neighbors:\n",
            "  RMSE: 26597.041917970862\n",
            "  R2: 0.793140368650439\n",
            "==================================================\n",
            "Lasso Regression:\n",
            "  RMSE: 11952.541936643536\n",
            "  R2: 0.9582237336737233\n",
            "==================================================\n",
            "Ridge Regression:\n",
            "  RMSE: 11952.305059545477\n",
            "  R2: 0.9582253895127455\n",
            "==================================================\n",
            "AdaBoost Regression:\n",
            "  RMSE: 20309.80549166119\n",
            "  R2: 0.8793796458687911\n",
            "==================================================\n",
            "XGBoost:\n",
            "  RMSE: 13408.737295403052\n",
            "  R2: 0.9474243276615513\n",
            "==================================================\n"
          ]
        }
      ]
    },
    {
      "cell_type": "code",
      "source": [
        "# Calculate evaluation metrics\n",
        "mse = mean_squared_error(y_test, y_pred)\n",
        "r2 = r2_score(y_test, y_pred)\n",
        "\n",
        "print(f\"Mean Squared Error: {mse:.2f}\")\n",
        "print(f\"R-squared: {r2:.2f}\")\n"
      ],
      "metadata": {
        "colab": {
          "base_uri": "https://localhost:8080/"
        },
        "id": "SZy2DBVxpBrl",
        "outputId": "8c045fd5-3445-4e67-b9a3-839fdb3464c4"
      },
      "execution_count": 35,
      "outputs": [
        {
          "output_type": "stream",
          "name": "stdout",
          "text": [
            "Mean Squared Error: 179794235.86\n",
            "R-squared: 0.95\n"
          ]
        }
      ]
    },
    {
      "cell_type": "code",
      "source": [
        "# Feature importance\n",
        "importances = model.feature_importances_\n",
        "features = X.columns\n",
        "\n",
        "# Create a DataFrame for visualization\n",
        "importance_df = pd.DataFrame({\"Feature\": features, \"Importance\": importances}).sort_values(by=\"Importance\", ascending=False)\n",
        "\n",
        "# Plot the feature importance\n",
        "plt.figure(figsize=(10, 6))\n",
        "sns.barplot(x=\"Importance\", y=\"Feature\", data=importance_df)\n",
        "plt.title(\"Feature Importance\")\n",
        "plt.show()\n"
      ],
      "metadata": {
        "colab": {
          "base_uri": "https://localhost:8080/",
          "height": 432
        },
        "id": "yVjxvqLHpIM5",
        "outputId": "d8df24e0-b035-4c09-e02c-3014c6aeb86e"
      },
      "execution_count": 39,
      "outputs": [
        {
          "output_type": "display_data",
          "data": {
            "text/plain": [
              "<Figure size 1000x600 with 1 Axes>"
            ],
            "image/png": "[encoded data removed]"
          },
          "metadata": {}
        }
      ]
    },
    {
      "cell_type": "code",
      "source": [
        "# Find the best model based on RMSE\n",
        "best_model_name = min(model_performance, key=lambda name: model_performance[name][\"RMSE\"])\n",
        "best_model = models[best_model_name]\n",
        "\n",
        "# Save the best model\n",
        "joblib.dump(best_model, \"eniyi.joblib\")\n",
        "print(f\"The best model ({best_model_name}) has been saved as 'eniyi.joblib'.\")\n"
      ],
      "metadata": {
        "colab": {
          "base_uri": "https://localhost:8080/"
        },
        "id": "ALDeGjaEpcQy",
        "outputId": "e9ccbe83-df65-479d-e257-569be4d3f184"
      },
      "execution_count": 41,
      "outputs": [
        {
          "output_type": "stream",
          "name": "stdout",
          "text": [
            "The best model (Ridge Regression) has been saved as 'eniyi.joblib'.\n"
          ]
        }
      ]
    }
  ]
}